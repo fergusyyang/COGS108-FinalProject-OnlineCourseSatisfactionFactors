{
 "cells": [
  {
   "cell_type": "markdown",
   "metadata": {},
   "source": [
    "# COGS 108 - Final Project Proposal"
   ]
  },
  {
   "cell_type": "markdown",
   "metadata": {},
   "source": [
    "# Names\n",
    "\n",
    "- Luming Jin\n",
    "- Xiaoke Li\n",
    "- Haowei Li\n",
    "- Yunfei Yang\n",
    "- Tengyue Wang"
   ]
  },
  {
   "cell_type": "markdown",
   "metadata": {},
   "source": [
    "# Research Question"
   ]
  },
  {
   "cell_type": "markdown",
   "metadata": {},
   "source": [
    "\n",
    "**How well can we predict student satisfaction with an online course using key metrics that represent course design, such as course difficulty, course price, and course duration etc?**\n",
    "\n"
   ]
  },
  {
   "cell_type": "markdown",
   "metadata": {},
   "source": [
    "## Background and Prior Work"
   ]
  },
  {
   "attachments": {},
   "cell_type": "markdown",
   "metadata": {},
   "source": [
    "Online learning has revolutionized access to education, providing people worldwide with opportunities to learn about various topics. As an evolving learning method that relies on platform and technology, online courses require constant revisions to fit with students’ needs. However, instructional designers may sometimes overlook non-teaching factors when developing courses, which can result in lower student satisfaction rates and enrollment [^Yu]. To bridge the gap between designers and users and enhance the learning experience, it is essential to analyze large data sets covering various aspects of online courses. \n",
    "\n",
    "\n",
    "The use of educational data to inform online learning experience is not a novel concept. In 2006, the study by Romero and Ventura discussed how statistical analysis such as regression could be applied to learning time and number of attempts to design effective educational systems [^Ventura and Romero]. Additionally, text mining was also used to evaluate specific knowledge grasp by students through online discussion [^Ventura and Romero]. This study points out how educational data can be used to measure learning outcomes and satisfaction in web-based courses. In 2008, another study utilized structural equation analysis, a multivariate analysis, to investigate the relationship between student’s perceptions on their computer ability, usefulness and flexibility in online courses, and their satisfaction with remote learning [^Sahin and Shelley]. The study found that all the three factors on students’ perceptions were positively correlated with student satisfaction in distance learning. \n",
    "\n",
    "Building upon previous research on students’ attitudes about online learning, recent studies focus on more accurate predictors in course design to improve students’ online learning experience. A study found that module designs manage course workload and flexibility, such as assessment frequency, duration of course, number of classes, level of difficulty, are all related to learning satisfaction [^Li, Marsh and Rienties]. In this study, overall student satisfaction data is collected, and the degree of influence for each block of predictors was measured by logistic regression analysis. Further study provided evidence for module difficulty being an important factor influencing students’ satisfaction in online learning [^Sutherland, Warwick and Anderson]. Similarly, through a regression analysis on survey data, another study found that non-teaching factors such as price and class size also affect students’ online learning experience, while teacher credentials are not a significant predictor [^Wart, Ni, Ready,Shayo, and Court]. \n",
    "\n",
    "\n",
    " **Reference:**\n",
    "\n",
    "[^Yu]:(12 Apr 2022) Factors Influencing Online Learning Satisfaction.  *Frontiers in Psychology*\n",
    "https://www.frontiersin.org/articles/10.3389/fpsyg.2022.852360/full \n",
    "\n",
    "[^Ventura and Romero]: Romero, C., & Ventura, S. (2007). Educational data mining: A survey from 1995 to 2005. *Expert Systems With Applications, 33(1), 135–146. *\n",
    "https://doi.org/10.1016/j.eswa.2006.04.005\n",
    "\n",
    "[^Sahin and Shelley]:Considering Students’ Perceptions: The Distance Education Student Satisfaction Model on JSTOR. (n.d.). https://www.jstor.org/stable/pdf/jeductechsoci.11.3.216.pdf\n",
    "\n",
    "[^Li, Marsh and Rienties]: Li, N., Marsh, V., & Rienties, B. (2016). Modelling and Managing Learner Satisfaction: Use of Learner Feedback to Enhance Blended and Online Learning Experience. *Decision Sciences Journal of Innovative Education, 14(2), 216–242.* https://doi.org/10.1111/dsji.12096\n",
    "\n",
    "[^Sutherland, Warwick and Anderson]: Sutherland, D., Warwick, P., & Anderson, J. R. (2019). What factors influence student satisfaction with module quality? A comparative analysis in a UK business school context. *The International Journal of Management Education, 17(3), 100312.* https://doi.org/10.1016/j.ijme.2019.100312\n",
    "\n",
    "[^Wart, Ni, Ready,Shayo, and Court]: Factors leading to Online Learner Satisfaction. \n",
    "California State University San Bernardino - California, USA\n",
    "http://www.elmstreetpress.com/images/V12_N1_draft_8_28.pdf#page=14 "
   ]
  },
  {
   "cell_type": "markdown",
   "metadata": {},
   "source": [
    "# Hypothesis\n"
   ]
  },
  {
   "cell_type": "markdown",
   "metadata": {},
   "source": [
    "\n",
    "\n",
    "Our study aims to examine what key course components impact online course ratings. We hypothesize that courses designed for all levels will have different ratings compared to courses of other levels, and that elements such as price and course duration will affect enrollment and thus the overall rating. By examining these variables, we seek to identify and predict potential relationships between these key elements and students' satisfaction towards course."
   ]
  },
  {
   "cell_type": "markdown",
   "metadata": {},
   "source": [
    "# Data"
   ]
  },
  {
   "cell_type": "markdown",
   "metadata": {},
   "source": [
    "\n",
    "\n",
    "Ideally, our data should include variables that indicate the level of difficulty and the detailed content of the online classes such as number of courses, topics covered in the courses, number of videos and number of supplemental readings and homework assignments etc. Information for substitute courses would also be desired. For example, how many related courses have been created and for how long? Our data should also have measurements for students’ feedback, such as students' satisfaction rate and how well does the course improve student’s GPA. Since we would observe the trend and prediction, more data across different subjects would be preferred. We think data with more than 2000 courses should provide us a decent amount of information for our study.  If time allows, we think it is best to conduct our own survey through questionnaire and web-scraping to get the data from multiple online platforms. The data should be cleanly stored in a csv format with informational column names and as less null values as possible. Each row can represent a course, and each column can represent the variables associated with the online courses. \n",
    "\n",
    "Below are the dataset we found useful for the project \n",
    "\n",
    "https://www.kaggle.com/datasets/andrewmvd/udemy-courses\n",
    "\n",
    "https://www.kaggle.com/datasets/christoffer/datacamp-courses\n",
    "\n",
    "https://www.kaggle.com/datasets/mahmoudahmed6/udemy-top-5k-course-2022\n",
    "\n",
    "With the assistance of Kaggle, the data is obtainable. However, so far no dataset has met our standard for ideal dataset. Not all datasets include every ideal variable we listed above. And some of them don’t have direct measurement for student’s satisfaction rate or how well it has improved student’s performance. \n",
    "\n",
    "\n"
   ]
  },
  {
   "cell_type": "markdown",
   "metadata": {},
   "source": [
    "# Ethics & Privacy"
   ]
  },
  {
   "cell_type": "markdown",
   "metadata": {},
   "source": [
    "To ensure ethical and privacy considerations in our project, we have taken the following steps. Firstly, we have selected a dataset with a large sample size of top-rated courses on Udemy, which is one of the most popular and representative online education platforms. The dataset has been anonymized, and personal identifiers have been removed, so the privacy of participants is well conserved. Also, since the data is collected from the students who are taking the courses over the internet, the geographic and socio-economical factors will not act as significant roles in our analysis and prediction. Our focus will be mainly on the courses themselves. In addition, our dataset does not contain any personal identifiers from the students, so the privacy of participants is well conserved.\n",
    "Overall, we recognize that conducting a data science project on predicting the rating to online courses requires careful consideration of ethical and privacy concerns. We will take all necessary steps to ensure that our analysis is fair, transparent, and unbiased. "
   ]
  },
  {
   "cell_type": "markdown",
   "metadata": {},
   "source": [
    "# Team Expectations "
   ]
  },
  {
   "cell_type": "markdown",
   "metadata": {},
   "source": [
    "* *Everyone should make a fair contributions for our team’s discussions and research*\n",
    "* *Each team member should be responsible for the tasks agreed on and finish work in time with high quality.*\n",
    "* *Teammates should respect each other and encourage different ideas and opinions*\n",
    "* *Should conflicts arise, teammates shall communicate and work together to reach conclusions and acceptable solutions.*\n",
    "* *Teammates should communicate at least once a week in meetings to check-in with each other on progress. More frequent meeting times should be set before important checkpoints of the project.*\n",
    "* *We communicate with each other via group chat and regular meetings. We will adopt the way of in-person or remote zoom meetings for group’s communication.*"
   ]
  },
  {
   "cell_type": "markdown",
   "metadata": {},
   "source": [
    "# Project Timeline Proposal"
   ]
  },
  {
   "cell_type": "markdown",
   "metadata": {},
   "source": [
    "| Meeting Date  | Meeting Time| Completed Before Meeting  | Discuss at Meeting |\n",
    "|---|---|---|---|\n",
    "| 4/25/2023  |  3:30 PM | Read provided project for discussion  | Project Review: strengths and weaknesses of projects done by previous groups | \n",
    "| 4/30/2023  |  9:00 PM |  Brainstorm for research questions and background | Decide research questions and work on project proposal | \n",
    "| 5/8/2023  | 6:00 PM  | Set up Jupyter Notebook and import Data  | Decide the approaches to analyze dataset, and distribute the specific parts among group members   |\n",
    "| 5/15/2023  | 6:00 PM  | Finalizing data cleaning and wrangling. Make sure specific tasks from 5.8 is finished.Begin with data analysis | Finalize the submission version for the first checkpoint and submit. Start planning work for data analysis   |\n",
    "| 5/22/2023  | 6:00 PM  | Work on specific analysis | Update teammates on the EDA and data analysis and discuss improvements |\n",
    "| 5/29/2023  | 6:00 PM  | Finalize EDA, start with project report| Review and Edit Notebook |\n",
    "| 6/5/2023  | 6:00 PM  | Complete project and wrap up; Start with project report, prepare project video | Discuss/edit full project |\n",
    "| 6/11/2023  | 6:00 PM  | Finish the recording and edit of video | Turn in Final Project Submit before 6/14 |"
   ]
  },
  {
   "cell_type": "code",
   "execution_count": null,
   "metadata": {},
   "outputs": [],
   "source": []
  }
 ],
 "metadata": {
  "kernelspec": {
   "display_name": "Python 3",
   "language": "python",
   "name": "python3"
  },
  "language_info": {
   "codemirror_mode": {
    "name": "ipython",
    "version": 3
   },
   "file_extension": ".py",
   "mimetype": "text/x-python",
   "name": "python",
   "nbconvert_exporter": "python",
   "pygments_lexer": "ipython3",
   "version": "3.10.2"
  }
 },
 "nbformat": 4,
 "nbformat_minor": 2
}
