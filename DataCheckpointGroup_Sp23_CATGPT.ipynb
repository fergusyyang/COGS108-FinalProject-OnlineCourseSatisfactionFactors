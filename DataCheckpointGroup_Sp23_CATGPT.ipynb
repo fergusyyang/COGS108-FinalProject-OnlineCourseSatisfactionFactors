{
 "cells": [
  {
   "cell_type": "markdown",
   "metadata": {},
   "source": [
    "# COGS 108 - Data Checkpoint"
   ]
  },
  {
   "cell_type": "markdown",
   "metadata": {},
   "source": [
    "# Names\n",
    "\n",
    "- Luming Jin\n",
    "- Xiaoke Li\n",
    "- Haowei Li\n",
    "- Yunfei Yang\n",
    "- Tengyue Wang"
   ]
  },
  {
   "cell_type": "markdown",
   "metadata": {},
   "source": [
    "<a id='research_question'></a>\n",
    "# Research Question"
   ]
  },
  {
   "cell_type": "markdown",
   "metadata": {},
   "source": [
    "**How well can we predict student satisfaction with an online course using key metrics that represent course design, such as course difficulty, course price, and course duration etc?**"
   ]
  },
  {
   "cell_type": "markdown",
   "metadata": {},
   "source": [
    "# Dataset(s)"
   ]
  },
  {
   "cell_type": "markdown",
   "metadata": {},
   "source": [
    "\n",
    "- Dataset Name: Udemy Courses - Top 5000 Course 2022\n",
    "- Link to the dataset: https://www.kaggle.com/datasets/mahmoudahmed6/udemy-top-5k-course-2022\n",
    "- Number of observations: 5027\n",
    "\n",
    "dataset describtion: \n",
    "The dataset we used for this project is from Kaggle. This dataset titied \"Udemy Courses - Top 5000 Course 2022\", with data scraped on 9/11/2022, provides a comprehensive look at the top 5000 courses on Udemy. The data updates every 3 to 6 months.\n",
    "\n",
    "The dataset includes the following columns:\n",
    "\n",
    "- course_name: This is the name of the course.\n",
    "- instructor: This denotes the instructor of the course.\n",
    "- course_url: This is the URL of the course.\n",
    "- course_image: This is the image of the course.\n",
    "- course_description: This is the course subtitle and contains information about the course content.\n",
    "- reviews_avg: This is the average review score of the course.\n",
    "- reviews_count: This represents the number of reviews for each course.\n",
    "- course_duration: This is the duration of the course in hours.\n",
    "- lectures_count: This is the number of lectures in each course.\n",
    "- level: This is the course level on Udemy.\n",
    "- price_after_discount: This is the course price in Egyptian pounds (EGP) after discount.\n",
    "- main_price: This is the original course price.\n",
    "- course_flag: This is the course flag like (best seller, hot, new, etc.)\n",
    "- students_count: This is the number of students in each course.\n",
    "\n",
    "The dataset provides a rich source of information for examining trends and patterns in online learning especially in the field of development. By using this data, we aim to gain insights into various aspects; for example, the popularity of courses, the relationship between price and popularity, the impact of course duration on student numbers. These insights could be valuable for educators, online learning platforms, helping them make informed decisions when taking online courses."
   ]
  },
  {
   "cell_type": "markdown",
   "metadata": {},
   "source": [
    "# Setup"
   ]
  },
  {
   "cell_type": "code",
   "execution_count": 2,
   "metadata": {},
   "outputs": [],
   "source": [
    "%matplotlib inline\n",
    "import os\n",
    "import pickle\n",
    "import warnings\n",
    "import seaborn as sns\n",
    "import numpy as np\n",
    "import pandas as pd\n",
    "import matplotlib.pyplot as plt\n",
    "import matplotlib.dates as mdates\n",
    "from datetime import date, datetime, timedelta\n",
    "from sklearn.metrics import mean_squared_error\n",
    "from statsmodels.tsa.arima_model import ARIMA\n",
    "from statsmodels.tsa.stattools import adfuller\n",
    "from statsmodels.graphics.tsaplots import plot_acf, plot_pacf\n",
    "warnings.filterwarnings('ignore')\n",
    "plt.style.use(\"fivethirtyeight\")"
   ]
  },
  {
   "cell_type": "code",
   "execution_count": 3,
   "metadata": {},
   "outputs": [],
   "source": [
    "online_course=pd.read_csv(\"data.csv\")"
   ]
  },
  {
   "cell_type": "code",
   "execution_count": 4,
   "metadata": {},
   "outputs": [
    {
     "data": {
      "text/html": [
       "<div>\n",
       "<style scoped>\n",
       "    .dataframe tbody tr th:only-of-type {\n",
       "        vertical-align: middle;\n",
       "    }\n",
       "\n",
       "    .dataframe tbody tr th {\n",
       "        vertical-align: top;\n",
       "    }\n",
       "\n",
       "    .dataframe thead th {\n",
       "        text-align: right;\n",
       "    }\n",
       "</style>\n",
       "<table border=\"1\" class=\"dataframe\">\n",
       "  <thead>\n",
       "    <tr style=\"text-align: right;\">\n",
       "      <th></th>\n",
       "      <th>course_name</th>\n",
       "      <th>instructor</th>\n",
       "      <th>course url</th>\n",
       "      <th>course image</th>\n",
       "      <th>course description</th>\n",
       "      <th>reviews_avg</th>\n",
       "      <th>reviews_count</th>\n",
       "      <th>course_duration</th>\n",
       "      <th>lectures_count</th>\n",
       "      <th>level</th>\n",
       "      <th>price_after_discount</th>\n",
       "      <th>main_price</th>\n",
       "      <th>course_flag</th>\n",
       "      <th>students_count</th>\n",
       "      <th>Unnamed: 14</th>\n",
       "      <th>Unnamed: 15</th>\n",
       "      <th>Unnamed: 16</th>\n",
       "      <th>Unnamed: 17</th>\n",
       "    </tr>\n",
       "  </thead>\n",
       "  <tbody>\n",
       "    <tr>\n",
       "      <th>0</th>\n",
       "      <td>2022 Complete Python Bootcamp From Zero to Her...</td>\n",
       "      <td>Jose Portilla</td>\n",
       "      <td>https://www.udemy.com/course/complete-python-b...</td>\n",
       "      <td>https://img-b.udemycdn.com/course/240x135/5678...</td>\n",
       "      <td>Learn Python like a Professional  Start from t...</td>\n",
       "      <td>Rating: 4.6 out of 5</td>\n",
       "      <td>440383 reviews</td>\n",
       "      <td>22 total hours</td>\n",
       "      <td>155 lectures</td>\n",
       "      <td>All Levels</td>\n",
       "      <td>Current price: E£319.99</td>\n",
       "      <td>Original price: E£1,399.99</td>\n",
       "      <td>NaN</td>\n",
       "      <td>1,629,692 students</td>\n",
       "      <td>NaN</td>\n",
       "      <td>NaN</td>\n",
       "      <td>NaN</td>\n",
       "      <td>NaN</td>\n",
       "    </tr>\n",
       "    <tr>\n",
       "      <th>1</th>\n",
       "      <td>The Web Developer Bootcamp 2022</td>\n",
       "      <td>Colt Steele</td>\n",
       "      <td>https://www.udemy.com/course/the-web-developer...</td>\n",
       "      <td>https://img-b.udemycdn.com/course/240x135/6252...</td>\n",
       "      <td>COMPLETELY REDONE - The only course you need t...</td>\n",
       "      <td>Rating: 4.7 out of 5</td>\n",
       "      <td>248508 reviews</td>\n",
       "      <td>64 total hours</td>\n",
       "      <td>615 lectures</td>\n",
       "      <td>All Levels</td>\n",
       "      <td>Current price: E£269.99</td>\n",
       "      <td>Original price: E£1,399.99</td>\n",
       "      <td>NaN</td>\n",
       "      <td>830,559 students</td>\n",
       "      <td>NaN</td>\n",
       "      <td>NaN</td>\n",
       "      <td>NaN</td>\n",
       "      <td>NaN</td>\n",
       "    </tr>\n",
       "    <tr>\n",
       "      <th>2</th>\n",
       "      <td>The Complete 2022 Web Development Bootcamp</td>\n",
       "      <td>Dr. Angela Yu</td>\n",
       "      <td>https://www.udemy.com/course/the-complete-web-...</td>\n",
       "      <td>https://img-b.udemycdn.com/course/240x135/1565...</td>\n",
       "      <td>Become a Full-Stack Web Developer with just ON...</td>\n",
       "      <td>Rating: 4.7 out of 5</td>\n",
       "      <td>234837 reviews</td>\n",
       "      <td>65.5 total hours</td>\n",
       "      <td>490 lectures</td>\n",
       "      <td>All Levels</td>\n",
       "      <td>Current price: E£349.99</td>\n",
       "      <td>Original price: E£1,699.99</td>\n",
       "      <td>Bestseller</td>\n",
       "      <td>794,897 students</td>\n",
       "      <td>NaN</td>\n",
       "      <td>NaN</td>\n",
       "      <td>NaN</td>\n",
       "      <td>NaN</td>\n",
       "    </tr>\n",
       "    <tr>\n",
       "      <th>3</th>\n",
       "      <td>Angular - The Complete Guide (2023 Edition)</td>\n",
       "      <td>Maximilian Schwarzmüller</td>\n",
       "      <td>https://www.udemy.com/course/the-complete-guid...</td>\n",
       "      <td>https://img-b.udemycdn.com/course/240x135/7561...</td>\n",
       "      <td>Master Angular 14 (formerly \"Angular 2\") and b...</td>\n",
       "      <td>Rating: 4.6 out of 5</td>\n",
       "      <td>174576 reviews</td>\n",
       "      <td>34.5 total hours</td>\n",
       "      <td>472 lectures</td>\n",
       "      <td>All Levels</td>\n",
       "      <td>Current price: E£319.99</td>\n",
       "      <td>Original price: E£1,599.99</td>\n",
       "      <td>Bestseller</td>\n",
       "      <td>634,196 students</td>\n",
       "      <td>NaN</td>\n",
       "      <td>NaN</td>\n",
       "      <td>NaN</td>\n",
       "      <td>NaN</td>\n",
       "    </tr>\n",
       "    <tr>\n",
       "      <th>4</th>\n",
       "      <td>Java Programming Masterclass covering Java 11 ...</td>\n",
       "      <td>Tim Buchalka, Tim Buchalka's Learn Programming...</td>\n",
       "      <td>https://www.udemy.com/course/java-the-complete...</td>\n",
       "      <td>https://img-b.udemycdn.com/course/240x135/5336...</td>\n",
       "      <td>Learn Java In This Course And Become a Compute...</td>\n",
       "      <td>Rating: 4.5 out of 5</td>\n",
       "      <td>171838 reviews</td>\n",
       "      <td>80.5 total hours</td>\n",
       "      <td>401 lectures</td>\n",
       "      <td>All Levels</td>\n",
       "      <td>Current price: E£349.99</td>\n",
       "      <td>Original price: E£849.99</td>\n",
       "      <td>Bestseller</td>\n",
       "      <td>727,934 students</td>\n",
       "      <td>NaN</td>\n",
       "      <td>NaN</td>\n",
       "      <td>NaN</td>\n",
       "      <td>NaN</td>\n",
       "    </tr>\n",
       "  </tbody>\n",
       "</table>\n",
       "</div>"
      ],
      "text/plain": [
       "                                         course_name  \\\n",
       "0  2022 Complete Python Bootcamp From Zero to Her...   \n",
       "1                    The Web Developer Bootcamp 2022   \n",
       "2         The Complete 2022 Web Development Bootcamp   \n",
       "3        Angular - The Complete Guide (2023 Edition)   \n",
       "4  Java Programming Masterclass covering Java 11 ...   \n",
       "\n",
       "                                          instructor  \\\n",
       "0                                      Jose Portilla   \n",
       "1                                        Colt Steele   \n",
       "2                                      Dr. Angela Yu   \n",
       "3                           Maximilian Schwarzmüller   \n",
       "4  Tim Buchalka, Tim Buchalka's Learn Programming...   \n",
       "\n",
       "                                          course url  \\\n",
       "0  https://www.udemy.com/course/complete-python-b...   \n",
       "1  https://www.udemy.com/course/the-web-developer...   \n",
       "2  https://www.udemy.com/course/the-complete-web-...   \n",
       "3  https://www.udemy.com/course/the-complete-guid...   \n",
       "4  https://www.udemy.com/course/java-the-complete...   \n",
       "\n",
       "                                        course image  \\\n",
       "0  https://img-b.udemycdn.com/course/240x135/5678...   \n",
       "1  https://img-b.udemycdn.com/course/240x135/6252...   \n",
       "2  https://img-b.udemycdn.com/course/240x135/1565...   \n",
       "3  https://img-b.udemycdn.com/course/240x135/7561...   \n",
       "4  https://img-b.udemycdn.com/course/240x135/5336...   \n",
       "\n",
       "                                  course description           reviews_avg  \\\n",
       "0  Learn Python like a Professional  Start from t...  Rating: 4.6 out of 5   \n",
       "1  COMPLETELY REDONE - The only course you need t...  Rating: 4.7 out of 5   \n",
       "2  Become a Full-Stack Web Developer with just ON...  Rating: 4.7 out of 5   \n",
       "3  Master Angular 14 (formerly \"Angular 2\") and b...  Rating: 4.6 out of 5   \n",
       "4  Learn Java In This Course And Become a Compute...  Rating: 4.5 out of 5   \n",
       "\n",
       "    reviews_count   course_duration lectures_count       level  \\\n",
       "0  440383 reviews    22 total hours   155 lectures  All Levels   \n",
       "1  248508 reviews    64 total hours   615 lectures  All Levels   \n",
       "2  234837 reviews  65.5 total hours   490 lectures  All Levels   \n",
       "3  174576 reviews  34.5 total hours   472 lectures  All Levels   \n",
       "4  171838 reviews  80.5 total hours   401 lectures  All Levels   \n",
       "\n",
       "      price_after_discount                  main_price course_flag  \\\n",
       "0  Current price: E£319.99  Original price: E£1,399.99         NaN   \n",
       "1  Current price: E£269.99  Original price: E£1,399.99         NaN   \n",
       "2  Current price: E£349.99  Original price: E£1,699.99  Bestseller   \n",
       "3  Current price: E£319.99  Original price: E£1,599.99  Bestseller   \n",
       "4  Current price: E£349.99    Original price: E£849.99  Bestseller   \n",
       "\n",
       "       students_count Unnamed: 14 Unnamed: 15 Unnamed: 16 Unnamed: 17  \n",
       "0  1,629,692 students         NaN         NaN         NaN         NaN  \n",
       "1    830,559 students         NaN         NaN         NaN         NaN  \n",
       "2    794,897 students         NaN         NaN         NaN         NaN  \n",
       "3    634,196 students         NaN         NaN         NaN         NaN  \n",
       "4    727,934 students         NaN         NaN         NaN         NaN  "
      ]
     },
     "execution_count": 4,
     "metadata": {},
     "output_type": "execute_result"
    }
   ],
   "source": [
    "online_course.head()"
   ]
  },
  {
   "cell_type": "markdown",
   "metadata": {},
   "source": [
    "# Data Cleaning"
   ]
  },
  {
   "cell_type": "markdown",
   "metadata": {},
   "source": [
    "1. Get rid of columns with all NAN Values \n",
    "\n",
    "2. Drop un-neccesary columns: course image link, course_flag \n",
    "\n",
    "3. Drop rows with nan for main_price or price_after_discount\n",
    "\n",
    "4. We want to convert strings to float/int for the following columns to prepare for our further analysis: \n",
    "   price_after_discount, main_price,students_count, review_avg, reviews_count, course_duration,lectures_count.\n",
    "\n",
    "5. Add one more colums for price percentage "
   ]
  },
  {
   "cell_type": "markdown",
   "metadata": {},
   "source": [
    "**1.Get rid of columns with all NAN Values**\n",
    "\n",
    "We notice there are four columns having the values all equal to Nah and the name of columns are not specified. We think they do not contain useful information that can be used for further interpretations and analysis. Therefore, we drop these columns from the original dataset.\n"
   ]
  },
  {
   "cell_type": "code",
   "execution_count": 5,
   "metadata": {},
   "outputs": [],
   "source": [
    "online_course = online_course.drop(['Unnamed: 14'], axis=1)\n",
    "online_course = online_course.drop(['Unnamed: 15'], axis=1)\n",
    "online_course = online_course.drop(['Unnamed: 16'], axis=1)\n",
    "online_course = online_course.drop(['Unnamed: 17'], axis=1)"
   ]
  },
  {
   "cell_type": "markdown",
   "metadata": {},
   "source": [
    "**2.Drop un-neccesary columns: course image link, course_flag**\n",
    "\n",
    "We find there is some unnecessary information including the course’s image and course’s flag. Using the drop method to remove these two columns. "
   ]
  },
  {
   "cell_type": "code",
   "execution_count": 6,
   "metadata": {},
   "outputs": [],
   "source": [
    "\n",
    "online_course.drop(['course image', 'course_flag'], axis=1, inplace=True)"
   ]
  },
  {
   "cell_type": "markdown",
   "metadata": {},
   "source": [
    "**3. Drop rows with nan for main_price or price_after_discount**\n",
    "\n",
    "We find that there are some nan values in main_price and price_after_discount. Comparing to the total number of entires, the numbers of nan values for each columns are not signifcant as we can see below. We assume that this is probably cause by loss of information during data collections. Therefore, we drop thoese rows with nan values to avoid inaccurate analysis."
   ]
  },
  {
   "cell_type": "code",
   "execution_count": 7,
   "metadata": {},
   "outputs": [
    {
     "data": {
      "text/plain": [
       "228"
      ]
     },
     "execution_count": 7,
     "metadata": {},
     "output_type": "execute_result"
    }
   ],
   "source": [
    "online_course['main_price'].isna().sum()"
   ]
  },
  {
   "cell_type": "code",
   "execution_count": 8,
   "metadata": {},
   "outputs": [
    {
     "data": {
      "text/plain": [
       "10"
      ]
     },
     "execution_count": 8,
     "metadata": {},
     "output_type": "execute_result"
    }
   ],
   "source": [
    "online_course['price_after_discount'].isna().sum()"
   ]
  },
  {
   "cell_type": "code",
   "execution_count": 9,
   "metadata": {},
   "outputs": [],
   "source": [
    "\n",
    "online_course=online_course[online_course['main_price'].isna()==False]\n",
    "online_course=online_course[online_course['price_after_discount'].isna()==False]"
   ]
  },
  {
   "cell_type": "code",
   "execution_count": 10,
   "metadata": {},
   "outputs": [
    {
     "data": {
      "text/plain": [
       "Current price: E£269.99    2141\n",
       "Current price: E£229.99    1284\n",
       "Current price: E£199.99     838\n",
       "Current price: E£319.99     491\n",
       "Current price: E£349.99      42\n",
       "40 lectures                   1\n",
       "All Levels                    1\n",
       "3449 reviews                  1\n",
       "Name: price_after_discount, dtype: int64"
      ]
     },
     "execution_count": 10,
     "metadata": {},
     "output_type": "execute_result"
    }
   ],
   "source": [
    "online_course['price_after_discount'].value_counts()"
   ]
  },
  {
   "cell_type": "markdown",
   "metadata": {},
   "source": [
    "Since All Levels, 3449 reviews and 40 lectures are not valid entires for price_after_discount and there are only  3 entires like this in total, we suspect that these were probably caused by mistakes for for data entry. Therefore we will drop these three rows"
   ]
  },
  {
   "cell_type": "code",
   "execution_count": 11,
   "metadata": {},
   "outputs": [],
   "source": [
    "online_course=online_course[online_course['price_after_discount']!='All Levels']\n",
    "online_course=online_course[online_course['price_after_discount']!='3449 reviews']\n",
    "online_course=online_course[online_course['price_after_discount']!='40 lectures']"
   ]
  },
  {
   "cell_type": "markdown",
   "metadata": {},
   "source": [
    "After checking main_price with the code below, we can see that column for main_price doesn't have invalid entries"
   ]
  },
  {
   "cell_type": "code",
   "execution_count": 12,
   "metadata": {},
   "outputs": [
    {
     "data": {
      "text/plain": [
       "Original price: E£229.99      838\n",
       "Original price: E£1,299.99    532\n",
       "Original price: E£719.99      506\n",
       "Original price: E£1,199.99    451\n",
       "Original price: E£1,399.99    394\n",
       "Original price: E£479.99      270\n",
       "Original price: E£319.99      198\n",
       "Original price: E£849.99      172\n",
       "Original price: E£269.99      142\n",
       "Original price: E£419.99      123\n",
       "Original price: E£1,599.99    115\n",
       "Original price: E£679.99       92\n",
       "Original price: E£779.99       84\n",
       "Original price: E£349.99       84\n",
       "Original price: E£529.99       83\n",
       "Original price: E£749.99       79\n",
       "Original price: E£649.99       69\n",
       "Original price: E£599.99       66\n",
       "Original price: E£799.99       66\n",
       "Original price: E£619.99       63\n",
       "Original price: E£819.99       61\n",
       "Original price: E£629.99       49\n",
       "Original price: E£579.99       45\n",
       "Original price: E£729.99       43\n",
       "Original price: E£449.99       42\n",
       "Original price: E£999.99       41\n",
       "Original price: E£1,699.99     31\n",
       "Original price: E£519.99       31\n",
       "Original price: E£549.99       26\n",
       "Name: main_price, dtype: int64"
      ]
     },
     "execution_count": 12,
     "metadata": {},
     "output_type": "execute_result"
    }
   ],
   "source": [
    "online_course['main_price'].value_counts()"
   ]
  },
  {
   "cell_type": "markdown",
   "metadata": {},
   "source": [
    "**4.We want to convert strings to float/int for the following columns to prepare for our further analysis:  price_after_discount, main_price,students_count, review_avg, reviews_count, course_duration,lectures_count.**\n",
    "\n",
    "We need to get all the numeric values from strings to allow further analysis. "
   ]
  },
  {
   "cell_type": "markdown",
   "metadata": {},
   "source": [
    "Convert entries in price_after_discount to float.\n",
    "\n",
    "All the strings are dropped, and the data is replaced by numbers and stored in the original columns. "
   ]
  },
  {
   "cell_type": "code",
   "execution_count": 13,
   "metadata": {},
   "outputs": [],
   "source": [
    "online_course['price_after_discount']=online_course['price_after_discount'].str.replace('Current price: E£', '').astype(float)"
   ]
  },
  {
   "cell_type": "markdown",
   "metadata": {},
   "source": [
    "Convert entries in main_price to float"
   ]
  },
  {
   "cell_type": "code",
   "execution_count": 14,
   "metadata": {},
   "outputs": [],
   "source": [
    "\n",
    "online_course['main_price'] = online_course['main_price'].str.replace('Original price: E£', '')  # remove prefix\n",
    "online_course['main_price'] = online_course['main_price'].str.replace(',', '')  # remove thousands separator\n",
    "online_course['main_price'] = online_course['main_price'].astype(float)"
   ]
  },
  {
   "cell_type": "markdown",
   "metadata": {},
   "source": [
    "Convert entries in lectures_count to int"
   ]
  },
  {
   "cell_type": "code",
   "execution_count": 15,
   "metadata": {},
   "outputs": [],
   "source": [
    "online_course['lectures_count'] = online_course['lectures_count'].str.replace('lectures', '').astype(float)"
   ]
  },
  {
   "cell_type": "markdown",
   "metadata": {},
   "source": [
    "Convert entries in course_duration to float/int"
   ]
  },
  {
   "cell_type": "code",
   "execution_count": 16,
   "metadata": {},
   "outputs": [],
   "source": [
    "#seperate the number and units of time\n",
    "online_course['course_duration_unit']=online_course['course_duration'].str.split('total').apply(lambda x: x[1])"
   ]
  },
  {
   "cell_type": "code",
   "execution_count": 17,
   "metadata": {},
   "outputs": [],
   "source": [
    "#get the value for course_duration\n",
    "online_course['course_duration']=online_course['course_duration'].str.split('total').apply(lambda x: x[0])"
   ]
  },
  {
   "cell_type": "markdown",
   "metadata": {},
   "source": [
    "Some of the units are mins. We want to make sure all values are measured in hours."
   ]
  },
  {
   "cell_type": "code",
   "execution_count": 18,
   "metadata": {},
   "outputs": [],
   "source": [
    "mask = online_course['course_duration_unit'] == 'mins'\n",
    "online_course.loc[mask, 'course_duration'] /= 60\n",
    "# we will then drop the column for course_duration_unit\n",
    "online_course.drop(['course_duration_unit'], axis=1, inplace=True)"
   ]
  },
  {
   "cell_type": "markdown",
   "metadata": {},
   "source": [
    "Convert entries in reviews_count and students_count to float/int"
   ]
  },
  {
   "cell_type": "code",
   "execution_count": 19,
   "metadata": {},
   "outputs": [],
   "source": [
    "online_course['reviews_count'] = online_course['reviews_count'].str.replace('reviews', '').astype(float)\n",
    "\n",
    "y = online_course['students_count'].str.replace(',', '')\n",
    "online_course['students_count'] = y.str.replace('students', '').astype(float)"
   ]
  },
  {
   "cell_type": "markdown",
   "metadata": {},
   "source": [
    "Convert entries in reviews_avg to float/int"
   ]
  },
  {
   "cell_type": "markdown",
   "metadata": {},
   "source": [
    "To get the average review number, we first convert the data entry in “review_avg” to string and then replace the parts in strings with empty values. In this way, we extracted the number of average reviews for courses. Then, we converted the value to float to ensure the data can be used in the following analyses. \n",
    "\n",
    "Similar to price_after_discount, some of the entires in reviews_avg have different format than the rest of the data and don't provide useful information for our analysis. Therefore we dropped these rows."
   ]
  },
  {
   "cell_type": "code",
   "execution_count": 20,
   "metadata": {},
   "outputs": [],
   "source": [
    "online_course=online_course[online_course['reviews_avg']!='399.99\"']\n",
    "online_course=online_course[online_course['reviews_avg']!='https://img-b.udemycdn.com/course/240x135/368679_cd44_3.jpg']\n",
    "online_course=online_course[online_course['reviews_avg']!='Beginner guide to Git, Github and Github Action. Learn to use git commands and create Github actions for DevOps CI CD']\n",
    "x = online_course['reviews_avg'].str.replace('out of 5', '')\n",
    "online_course['reviews_avg'] = x.str.replace('Rating: ', '').astype(float)"
   ]
  },
  {
   "cell_type": "markdown",
   "metadata": {},
   "source": [
    "**5.We added one column that shows the discout each course offered**"
   ]
  },
  {
   "cell_type": "code",
   "execution_count": 21,
   "metadata": {},
   "outputs": [],
   "source": [
    "online_course['price_discount']=(online_course['main_price']-\\\n",
    "                                 online_course['price_after_discount'])/online_course['main_price']"
   ]
  },
  {
   "cell_type": "markdown",
   "metadata": {},
   "source": [
    "Below is the cleaned data"
   ]
  },
  {
   "cell_type": "code",
   "execution_count": 22,
   "metadata": {},
   "outputs": [
    {
     "data": {
      "text/html": [
       "<div>\n",
       "<style scoped>\n",
       "    .dataframe tbody tr th:only-of-type {\n",
       "        vertical-align: middle;\n",
       "    }\n",
       "\n",
       "    .dataframe tbody tr th {\n",
       "        vertical-align: top;\n",
       "    }\n",
       "\n",
       "    .dataframe thead th {\n",
       "        text-align: right;\n",
       "    }\n",
       "</style>\n",
       "<table border=\"1\" class=\"dataframe\">\n",
       "  <thead>\n",
       "    <tr style=\"text-align: right;\">\n",
       "      <th></th>\n",
       "      <th>course_name</th>\n",
       "      <th>instructor</th>\n",
       "      <th>course url</th>\n",
       "      <th>course description</th>\n",
       "      <th>reviews_avg</th>\n",
       "      <th>reviews_count</th>\n",
       "      <th>course_duration</th>\n",
       "      <th>lectures_count</th>\n",
       "      <th>level</th>\n",
       "      <th>price_after_discount</th>\n",
       "      <th>main_price</th>\n",
       "      <th>students_count</th>\n",
       "      <th>price_discount</th>\n",
       "    </tr>\n",
       "  </thead>\n",
       "  <tbody>\n",
       "    <tr>\n",
       "      <th>0</th>\n",
       "      <td>2022 Complete Python Bootcamp From Zero to Her...</td>\n",
       "      <td>Jose Portilla</td>\n",
       "      <td>https://www.udemy.com/course/complete-python-b...</td>\n",
       "      <td>Learn Python like a Professional  Start from t...</td>\n",
       "      <td>4.6</td>\n",
       "      <td>440383.0</td>\n",
       "      <td>22</td>\n",
       "      <td>155.0</td>\n",
       "      <td>All Levels</td>\n",
       "      <td>319.99</td>\n",
       "      <td>1399.99</td>\n",
       "      <td>1629692.0</td>\n",
       "      <td>0.771434</td>\n",
       "    </tr>\n",
       "    <tr>\n",
       "      <th>1</th>\n",
       "      <td>The Web Developer Bootcamp 2022</td>\n",
       "      <td>Colt Steele</td>\n",
       "      <td>https://www.udemy.com/course/the-web-developer...</td>\n",
       "      <td>COMPLETELY REDONE - The only course you need t...</td>\n",
       "      <td>4.7</td>\n",
       "      <td>248508.0</td>\n",
       "      <td>64</td>\n",
       "      <td>615.0</td>\n",
       "      <td>All Levels</td>\n",
       "      <td>269.99</td>\n",
       "      <td>1399.99</td>\n",
       "      <td>830559.0</td>\n",
       "      <td>0.807149</td>\n",
       "    </tr>\n",
       "    <tr>\n",
       "      <th>2</th>\n",
       "      <td>The Complete 2022 Web Development Bootcamp</td>\n",
       "      <td>Dr. Angela Yu</td>\n",
       "      <td>https://www.udemy.com/course/the-complete-web-...</td>\n",
       "      <td>Become a Full-Stack Web Developer with just ON...</td>\n",
       "      <td>4.7</td>\n",
       "      <td>234837.0</td>\n",
       "      <td>65.5</td>\n",
       "      <td>490.0</td>\n",
       "      <td>All Levels</td>\n",
       "      <td>349.99</td>\n",
       "      <td>1699.99</td>\n",
       "      <td>794897.0</td>\n",
       "      <td>0.794122</td>\n",
       "    </tr>\n",
       "    <tr>\n",
       "      <th>3</th>\n",
       "      <td>Angular - The Complete Guide (2023 Edition)</td>\n",
       "      <td>Maximilian Schwarzmüller</td>\n",
       "      <td>https://www.udemy.com/course/the-complete-guid...</td>\n",
       "      <td>Master Angular 14 (formerly \"Angular 2\") and b...</td>\n",
       "      <td>4.6</td>\n",
       "      <td>174576.0</td>\n",
       "      <td>34.5</td>\n",
       "      <td>472.0</td>\n",
       "      <td>All Levels</td>\n",
       "      <td>319.99</td>\n",
       "      <td>1599.99</td>\n",
       "      <td>634196.0</td>\n",
       "      <td>0.800005</td>\n",
       "    </tr>\n",
       "    <tr>\n",
       "      <th>4</th>\n",
       "      <td>Java Programming Masterclass covering Java 11 ...</td>\n",
       "      <td>Tim Buchalka, Tim Buchalka's Learn Programming...</td>\n",
       "      <td>https://www.udemy.com/course/java-the-complete...</td>\n",
       "      <td>Learn Java In This Course And Become a Compute...</td>\n",
       "      <td>4.5</td>\n",
       "      <td>171838.0</td>\n",
       "      <td>80.5</td>\n",
       "      <td>401.0</td>\n",
       "      <td>All Levels</td>\n",
       "      <td>349.99</td>\n",
       "      <td>849.99</td>\n",
       "      <td>727934.0</td>\n",
       "      <td>0.588242</td>\n",
       "    </tr>\n",
       "  </tbody>\n",
       "</table>\n",
       "</div>"
      ],
      "text/plain": [
       "                                         course_name  \\\n",
       "0  2022 Complete Python Bootcamp From Zero to Her...   \n",
       "1                    The Web Developer Bootcamp 2022   \n",
       "2         The Complete 2022 Web Development Bootcamp   \n",
       "3        Angular - The Complete Guide (2023 Edition)   \n",
       "4  Java Programming Masterclass covering Java 11 ...   \n",
       "\n",
       "                                          instructor  \\\n",
       "0                                      Jose Portilla   \n",
       "1                                        Colt Steele   \n",
       "2                                      Dr. Angela Yu   \n",
       "3                           Maximilian Schwarzmüller   \n",
       "4  Tim Buchalka, Tim Buchalka's Learn Programming...   \n",
       "\n",
       "                                          course url  \\\n",
       "0  https://www.udemy.com/course/complete-python-b...   \n",
       "1  https://www.udemy.com/course/the-web-developer...   \n",
       "2  https://www.udemy.com/course/the-complete-web-...   \n",
       "3  https://www.udemy.com/course/the-complete-guid...   \n",
       "4  https://www.udemy.com/course/java-the-complete...   \n",
       "\n",
       "                                  course description  reviews_avg  \\\n",
       "0  Learn Python like a Professional  Start from t...          4.6   \n",
       "1  COMPLETELY REDONE - The only course you need t...          4.7   \n",
       "2  Become a Full-Stack Web Developer with just ON...          4.7   \n",
       "3  Master Angular 14 (formerly \"Angular 2\") and b...          4.6   \n",
       "4  Learn Java In This Course And Become a Compute...          4.5   \n",
       "\n",
       "   reviews_count course_duration  lectures_count       level  \\\n",
       "0       440383.0             22            155.0  All Levels   \n",
       "1       248508.0             64            615.0  All Levels   \n",
       "2       234837.0           65.5            490.0  All Levels   \n",
       "3       174576.0           34.5            472.0  All Levels   \n",
       "4       171838.0           80.5            401.0  All Levels   \n",
       "\n",
       "   price_after_discount  main_price  students_count  price_discount  \n",
       "0                319.99     1399.99       1629692.0        0.771434  \n",
       "1                269.99     1399.99        830559.0        0.807149  \n",
       "2                349.99     1699.99        794897.0        0.794122  \n",
       "3                319.99     1599.99        634196.0        0.800005  \n",
       "4                349.99      849.99        727934.0        0.588242  "
      ]
     },
     "execution_count": 22,
     "metadata": {},
     "output_type": "execute_result"
    }
   ],
   "source": [
    "online_course.head()"
   ]
  },
  {
   "cell_type": "code",
   "execution_count": null,
   "metadata": {},
   "outputs": [],
   "source": []
  }
 ],
 "metadata": {
  "kernelspec": {
   "display_name": "Python 3",
   "language": "python",
   "name": "python3"
  },
  "language_info": {
   "codemirror_mode": {
    "name": "ipython",
    "version": 3
   },
   "file_extension": ".py",
   "mimetype": "text/x-python",
   "name": "python",
   "nbconvert_exporter": "python",
   "pygments_lexer": "ipython3",
   "version": "3.8.8"
  }
 },
 "nbformat": 4,
 "nbformat_minor": 2
}
